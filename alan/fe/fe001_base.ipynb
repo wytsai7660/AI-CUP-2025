{
 "cells": [
  {
   "cell_type": "code",
   "execution_count": 1,
   "id": "41614d11",
   "metadata": {},
   "outputs": [],
   "source": [
    "import pandas as pd\n",
    "import numpy as np\n",
    "import os\n",
    "import glob\n",
    "from sklearn.preprocessing import LabelEncoder\n",
    "from sklearn.preprocessing import StandardScaler,RobustScaler"
   ]
  },
  {
   "cell_type": "code",
   "execution_count": 2,
   "id": "d7d3a975",
   "metadata": {},
   "outputs": [],
   "source": [
    "fe = \"001\"\n",
    "if not os.path.exists(f\"../out/fe/fe{fe}\"):\n",
    "    os.makedirs(f\"../out/fe/fe{fe}\")\n",
    "    os.makedirs(f\"../out/fe/fe{fe}/save\")"
   ]
  },
  {
   "cell_type": "code",
   "execution_count": 3,
   "id": "dc7228eb",
   "metadata": {},
   "outputs": [],
   "source": [
    "df = pd.read_csv('../data/train/train_info.csv')"
   ]
  },
  {
   "cell_type": "code",
   "execution_count": 4,
   "id": "e0caf0ea",
   "metadata": {},
   "outputs": [],
   "source": [
    "feature_arr = []\n",
    "target_arr = []\n",
    "mask_arr = []\n",
    "target_mask_arr = []\n",
    "id_list = []\n",
    "player_list = []"
   ]
  },
  {
   "cell_type": "code",
   "execution_count": 5,
   "id": "afa362c1",
   "metadata": {},
   "outputs": [],
   "source": [
    "seq_len = 500\n",
    "shift = 250\n",
    "offset = 100"
   ]
  },
  {
   "cell_type": "code",
   "execution_count": 6,
   "id": "f7a9595b",
   "metadata": {},
   "outputs": [
    {
     "name": "stdout",
     "output_type": "stream",
     "text": [
      "1.3636363636363635\n",
      "0.9375\n",
      "97.79829545454544\n"
     ]
    }
   ],
   "source": [
    "print(60 / 44)\n",
    "print(60 / 64)\n",
    "print((60 / 44 + 60 / 64) / 2 * 85)\n"
   ]
  },
  {
   "cell_type": "code",
   "execution_count": 7,
   "id": "df85ee89",
   "metadata": {},
   "outputs": [],
   "source": [
    "for index, row in df.iterrows():\n",
    "    unique_id = row['unique_id']\n",
    "    player_id = row['player_id']\n",
    "    mode = row['mode'] - 1\n",
    "    gender = row['gender'] - 1\n",
    "    hand = row['hold racket handed'] - 1\n",
    "    year = row['play years']\n",
    "    level = row['level'] - 2\n",
    "    \n",
    "    filepath = f'../data/train/train_data/{unique_id}.txt'\n",
    "    imu_data = np.loadtxt(filepath)\n",
    "    \n",
    "    batch = len(imu_data) // shift\n",
    "    feature_arr_ = np.zeros((batch, seq_len, 24))\n",
    "    target_arr_ = np.zeros((batch, seq_len, 11), dtype=int)\n",
    "    mask_arr_ = np.zeros((batch, seq_len), dtype=int)\n",
    "    target_mask_arr_ = np.zeros((batch, seq_len), dtype=int)\n",
    "    \n",
    "    # print(imu_data[:10])\n",
    "    diff_prev = np.diff(imu_data, axis=0, prepend=imu_data[:1])\n",
    "    # print(diff_prev[:10])\n",
    "    diff_next = np.diff(imu_data, axis=0, append=imu_data[-1:])\n",
    "    # print(diff_next[:10])\n",
    "    cumsum = np.cumsum(imu_data, axis=0)\n",
    "    # print(cumsum[:10])\n",
    "    all_feature = np.concatenate((imu_data, diff_prev, diff_next, cumsum), axis=1)\n",
    "    sc = RobustScaler()\n",
    "    all_feature = sc.fit_transform(all_feature)\n",
    "    gender_one_hot = np.eye(2)[gender]\n",
    "    hand_one_hot = np.eye(2)[hand]\n",
    "    year_one_hot = np.eye(3)[year]\n",
    "    level_one_hot = np.eye(4)[level]\n",
    "    target = np.concatenate((gender_one_hot, hand_one_hot, year_one_hot, level_one_hot))[None, None, :]\n",
    "    \n",
    "    for i in range(batch):\n",
    "        if i == batch - 1:\n",
    "            fe = all_feature[i*shift:]\n",
    "            feature_arr_[i, :len(fe), :] = fe\n",
    "            target_arr_[i, :len(fe), :] = target\n",
    "            mask_arr_[i, :len(fe)] = 1\n",
    "            target_mask_arr_[i, offset:len(fe)] = 1\n",
    "        else:\n",
    "            feature_arr_[i, :, :] = all_feature[i*shift:i*shift+seq_len]\n",
    "            target_arr_[i, :, :] = target\n",
    "            mask_arr_[i, :] = 1\n",
    "            target_mask_arr_[i, offset:] = 1\n",
    "        \n",
    "    feature_arr.append(feature_arr_)\n",
    "    target_arr.append(target_arr_)\n",
    "    mask_arr.append(mask_arr_)\n",
    "    target_mask_arr.append(target_arr_)\n",
    "    id_list.extend([unique_id for _ in range(batch)])\n",
    "    player_list.extend([player_id for _ in range(batch)])\n",
    "\n",
    "    # break"
   ]
  },
  {
   "cell_type": "code",
   "execution_count": 8,
   "id": "09a9709d",
   "metadata": {},
   "outputs": [],
   "source": [
    "feature_arr = np.concatenate(feature_arr, axis=0)\n",
    "target_arr = np.concatenate(target_arr, axis=0)\n",
    "mask_arr = np.concatenate(mask_arr, axis=0)\n",
    "target_mask_arr = np.concatenate(target_mask_arr, axis=0)"
   ]
  },
  {
   "cell_type": "code",
   "execution_count": 9,
   "id": "795e0965",
   "metadata": {},
   "outputs": [],
   "source": [
    "# id_list = np.array(id_list, dtype=int)\n",
    "# player_list = np.array(player_list, dtype=int)"
   ]
  },
  {
   "cell_type": "code",
   "execution_count": null,
   "id": "aeec259d",
   "metadata": {},
   "outputs": [],
   "source": [
    "fe = \"001\"\n",
    "np.save(f\"../out/fe/fe{fe}/feature_arr.npy\", feature_arr)\n",
    "np.save(f\"../out/fe/fe{fe}/target_arr.npy\", target_arr)\n",
    "np.save(f\"../out/fe/fe{fe}/mask_arr.npy\", mask_arr)\n",
    "np.save(f\"../out/fe/fe{fe}/target_mask_arr.npy\", target_mask_arr)"
   ]
  },
  {
   "cell_type": "code",
   "execution_count": 14,
   "id": "637ab25e",
   "metadata": {},
   "outputs": [],
   "source": [
    "id_list = np.array(id_list, dtype=int)\n",
    "player_list = np.array(player_list, dtype=int)\n",
    "np.save(f\"../out/fe/fe{fe}/id_list.npy\", id_list)\n",
    "np.save(f\"../out/fe/fe{fe}/player_list.npy\", player_list)"
   ]
  }
 ],
 "metadata": {
  "kernelspec": {
   "display_name": "seer",
   "language": "python",
   "name": "python3"
  },
  "language_info": {
   "codemirror_mode": {
    "name": "ipython",
    "version": 3
   },
   "file_extension": ".py",
   "mimetype": "text/x-python",
   "name": "python",
   "nbconvert_exporter": "python",
   "pygments_lexer": "ipython3",
   "version": "3.12.9"
  }
 },
 "nbformat": 4,
 "nbformat_minor": 5
}
